{
 "cells": [
  {
   "cell_type": "code",
   "execution_count": 23,
   "id": "723dee4a",
   "metadata": {},
   "outputs": [],
   "source": [
    "%matplotlib inline\n",
    "import random\n",
    "import torch\n",
    "import matplotlib.pyplot as plt"
   ]
  },
  {
   "cell_type": "code",
   "execution_count": 24,
   "id": "6b6a473c",
   "metadata": {},
   "outputs": [],
   "source": [
    "def synthetic_data(w,b,num_examples):\n",
    "    X = torch.normal(0,1,(num_examples,len(w)))\n",
    "    y = torch.matmul(X,w)+b\n",
    "    y += torch.normal(0,0.01,y.shape)\n",
    "    return X,y.reshape((-1,1))"
   ]
  },
  {
   "cell_type": "code",
   "execution_count": 25,
   "id": "a9bf09c7",
   "metadata": {},
   "outputs": [],
   "source": [
    "true_w = torch.tensor([2,-3.4])\n",
    "true_b = 4.2\n",
    "features, labels = synthetic_data(true_w,true_b,1000)"
   ]
  },
  {
   "cell_type": "code",
   "execution_count": 26,
   "id": "3ab281db",
   "metadata": {},
   "outputs": [
    {
     "name": "stdout",
     "output_type": "stream",
     "text": [
      "features: tensor([0.0169, 0.5287]) \n",
      "label: tensor([2.4457])\n"
     ]
    }
   ],
   "source": [
    "print('features:', features[0], '\\nlabel:', labels[0])"
   ]
  },
  {
   "cell_type": "code",
   "execution_count": 41,
   "id": "c84a2b39",
   "metadata": {},
   "outputs": [
    {
     "data": {
      "text/plain": [
       "(1000, torch.Size([1000, 2]))"
      ]
     },
     "execution_count": 41,
     "metadata": {},
     "output_type": "execute_result"
    }
   ],
   "source": [
    "len(features), features.shape"
   ]
  },
  {
   "cell_type": "code",
   "execution_count": 37,
   "id": "b4be8cf1",
   "metadata": {},
   "outputs": [
    {
     "data": {
      "image/png": "[encoded data removed]",
      "text/plain": [
       "<Figure size 432x288 with 1 Axes>"
      ]
     },
     "metadata": {
      "needs_background": "light"
     },
     "output_type": "display_data"
    }
   ],
   "source": [
    "plt.scatter(features[:,1].detach().numpy(), labels.detach().numpy(),s=5)\n",
    "plt.title(\"The relationship with feature 1\")\n",
    "plt.xlabel(\"feature 1\")\n",
    "plt.ylabel(\"y\")\n",
    "plt.show()"
   ]
  },
  {
   "cell_type": "code",
   "execution_count": 39,
   "id": "1491a1fc",
   "metadata": {},
   "outputs": [],
   "source": [
    "#detach表示返回一个新的tensor但是没有grad，节约内存， 再转化为numpy格式"
   ]
  },
  {
   "cell_type": "code",
   "execution_count": 63,
   "id": "54a096a6",
   "metadata": {},
   "outputs": [],
   "source": [
    "def data_iter(batch_size, features, labels):\n",
    "    num_examples = len(features)\n",
    "    indices = list(range(num_examples)) #indices转化为列表\n",
    "    random.shuffle(indices) #打乱顺序\n",
    "    for i in range(0,num_examples,batch_size):\n",
    "        batch_indices = torch.tensor(\n",
    "            indices[i: min(i+batch_size, num_examples)])\n",
    "        yield features[batch_indices],labels[batch_indices]\n",
    "        #使用yield返回值是即时返回，而return是等整个循环完毕后一起返回，内存消耗较大"
   ]
  },
  {
   "cell_type": "code",
   "execution_count": 64,
   "id": "093ae06b",
   "metadata": {},
   "outputs": [],
   "source": [
    "batch_size = 10"
   ]
  },
  {
   "cell_type": "code",
   "execution_count": 66,
   "id": "954e2ac6",
   "metadata": {},
   "outputs": [
    {
     "name": "stdout",
     "output_type": "stream",
     "text": [
      "tensor([[ 0.4705, -0.6464],\n",
      "        [-2.4091, -1.8170],\n",
      "        [-1.4627, -1.2430],\n",
      "        [-0.1765,  2.1809],\n",
      "        [-0.5335,  0.3117],\n",
      "        [-0.1164, -1.1948],\n",
      "        [ 1.5586, -0.5385],\n",
      "        [ 0.4707, -0.8372],\n",
      "        [ 1.9186,  0.0126],\n",
      "        [-0.8373, -0.3008]]) \n",
      " tensor([[ 7.3307],\n",
      "        [ 5.5725],\n",
      "        [ 5.5044],\n",
      "        [-3.5722],\n",
      "        [ 2.0719],\n",
      "        [ 8.0382],\n",
      "        [ 9.1385],\n",
      "        [ 7.9928],\n",
      "        [ 7.9890],\n",
      "        [ 3.5445]])\n"
     ]
    }
   ],
   "source": [
    "for X,y in data_iter(batch_size, features, labels):\n",
    "    print(X, '\\n', y)\n",
    "    break\n",
    "#选取第一个小批量样本数据集"
   ]
  },
  {
   "cell_type": "code",
   "execution_count": 67,
   "id": "5b35f847",
   "metadata": {},
   "outputs": [],
   "source": [
    "w = torch.normal(0, 0.01, size=(2,1), requires_grad=True)\n",
    "b = torch.zeros(1, requires_grad=True)"
   ]
  },
  {
   "cell_type": "code",
   "execution_count": 69,
   "id": "cc0d185d",
   "metadata": {},
   "outputs": [],
   "source": [
    "def linreg(X, w, b):\n",
    "    return torch.matmul(X, w)+b"
   ]
  },
  {
   "cell_type": "code",
   "execution_count": 70,
   "id": "4f033662",
   "metadata": {},
   "outputs": [],
   "source": [
    "def squared_loss(y_hat, y):\n",
    "    return 0.5*(y_hat - y.reshape(y_hat.shape))**2"
   ]
  },
  {
   "cell_type": "code",
   "execution_count": 72,
   "id": "60abbc0a",
   "metadata": {},
   "outputs": [],
   "source": [
    "def sgd(params, lr, batch_size):\n",
    "    with torch.no_grad(): #表示不会计算梯度，也不会反向传播\n",
    "        for param in params:\n",
    "            param -= lr * param.grad / batch_size\n",
    "            param.grad.zero_()"
   ]
  },
  {
   "cell_type": "code",
   "execution_count": 74,
   "id": "edbb2a10",
   "metadata": {},
   "outputs": [],
   "source": [
    "lr = 0.03\n",
    "num_epochs = 3\n",
    "net = linreg\n",
    "loss = squared_loss\n",
    "#设置超参数"
   ]
  },
  {
   "cell_type": "code",
   "execution_count": null,
   "id": "6e2c58c2",
   "metadata": {},
   "outputs": [],
   "source": []
  }
 ],
 "metadata": {
  "kernelspec": {
   "display_name": "Python 3 (ipykernel)",
   "language": "python",
   "name": "python3"
  },
  "language_info": {
   "codemirror_mode": {
    "name": "ipython",
    "version": 3
   },
   "file_extension": ".py",
   "mimetype": "text/x-python",
   "name": "python",
   "nbconvert_exporter": "python",
   "pygments_lexer": "ipython3",
   "version": "3.9.7"
  }
 },
 "nbformat": 4,
 "nbformat_minor": 5
}
